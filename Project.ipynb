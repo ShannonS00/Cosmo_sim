{
 "cells": [
  {
   "cell_type": "markdown",
   "id": "2aee0115",
   "metadata": {},
   "source": [
    "### Focus Project Schröder\n"
   ]
  },
  {
   "cell_type": "markdown",
   "id": "7be02535",
   "metadata": {},
   "source": [
    "### GOAL: \n",
    "To turn problem set 10 into a cosmological simulation you need two things:\n",
    "1) Change the time integration to account for the expansion of the Universe (add perturbation in an expanding universe / generic perturbation)\n",
    "2) Cosmological initial conditions. Here you need to use the power spectrum sampling from page 109 of the lecture notes, with the Zeldovich approximation to displace the particles initially. (study how one can make realisations of cosmic density fields with a cosmological power spectrum and connect this to the material in Section 5.6.2.)\n",
    "\n",
    "------------------------------------------------------------------------------"
   ]
  },
  {
   "cell_type": "code",
   "execution_count": 1,
   "id": "11a7fb80",
   "metadata": {},
   "outputs": [],
   "source": [
    "import numpy as np\n",
    "from numba import jit, njit, prange\n",
    "import matplotlib.pyplot as plt\n",
    "from matplotlib.colors import LogNorm\n",
    "import os, pathlib, imageio"
   ]
  },
  {
   "cell_type": "code",
   "execution_count": null,
   "id": "a876fbf2",
   "metadata": {},
   "outputs": [],
   "source": [
    "N        = 1024 * 1024            # MUST be a perfect square = ngrid_ic**2\n",
    "ngrid    = 64                    # force-mesh for Poisson\n",
    "alpha_PS = -2.5                  # slope of P(k) ∝ k^alpha  (try −2.5 … 0)\n",
    "seed     = 42\n",
    "# cosmology\n",
    "a0       = 0.01                  # starting scale factor  (z = 99)\n",
    "H0       = 0.1                   # code units: H0 = 0.1 ⇒ 1 time-unit ≈ 10 H₀⁻¹\n",
    "Omega_m  = 0.3\n",
    "Omega_L  = 0.7\n",
    "dt       = 0.001                 # cosmic-time step  (Δa/a ≈ 1 %)\n",
    "n_steps  = 600"
   ]
  },
  {
   "cell_type": "markdown",
   "id": "d5c1320f",
   "metadata": {},
   "source": [
    "Gaussian Random field"
   ]
  },
  {
   "cell_type": "code",
   "execution_count": 3,
   "id": "084a65e2",
   "metadata": {},
   "outputs": [],
   "source": [
    "\n",
    "# ================================================================\n",
    "# 1.  Gaussian random field with P(k) ∝ k^alpha  (periodic box)\n",
    "# ================================================================\n",
    "def gaussian_random_field_2d(ngrid, alpha, seed=None):\n",
    "    rng = np.random.default_rng(seed)\n",
    "\n",
    "    # wavenumber grid\n",
    "    m = np.fft.fftfreq(ngrid) * ngrid          #  0…N/2-1, -N/2…-1\n",
    "    kx, ky = np.meshgrid(m, m, indexing='ij')\n",
    "    k  = np.hypot(kx, ky)\n",
    "\n",
    "    # complex white noise\n",
    "    noise = rng.normal(size=(ngrid, ngrid)) + 1j*rng.normal(size=(ngrid, ngrid))\n",
    "\n",
    "    # skip k = 0 so we never evaluate 0**negative ---\n",
    "    amp = np.zeros_like(k)\n",
    "    mask = k > 0.0\n",
    "    amp[mask] = k[mask] ** (alpha / 2.0)\n",
    "\n",
    "    delta_k = noise * amp\n",
    "\n",
    "    # enforce Hermitian symmetry (so ifft is real)\n",
    "    delta_k = 0.5 * (delta_k + np.conj(np.rot90(delta_k, 2)))\n",
    "\n",
    "    return np.fft.ifft2(delta_k).real\n"
   ]
  },
  {
   "cell_type": "markdown",
   "id": "309964c1",
   "metadata": {},
   "source": [
    " Zel’dovich displacement"
   ]
  },
  {
   "cell_type": "code",
   "execution_count": 5,
   "id": "d872af5e",
   "metadata": {},
   "outputs": [],
   "source": [
    "\n",
    "# ================================================================\n",
    "# 2.  Zel’dovich displacement / velocity\n",
    "# ================================================================\n",
    "def H(a, H0=H0, Om=Omega_m, Ol=Omega_L):\n",
    "    return H0 * np.sqrt(Om/a**3 + Ol)\n",
    "\n",
    "def zeldovich_displacement(delta_x, a_ic):\n",
    "    Nmesh = delta_x.shape[0]\n",
    "    m  = np.fft.fftfreq(Nmesh) * Nmesh\n",
    "    kx, ky = np.meshgrid(m, m, indexing='ij')\n",
    "    k2 = kx**2 + ky**2\n",
    "    k2[0, 0] = 1.0   # avoid div/0\n",
    "    delta_k = np.fft.fft2(delta_x)\n",
    "    psi_kx  = 1j * kx * delta_k / k2\n",
    "    psi_ky  = 1j * ky * delta_k / k2\n",
    "    psi_x   = np.fft.ifft2(psi_kx).real\n",
    "    psi_y   = np.fft.ifft2(psi_ky).real\n",
    "    psi     = -a_ic * np.stack((psi_x, psi_y), axis=-1)         # minus sign!\n",
    "    udotD_D = H(a_ic)        # dD/dt / D   (for EdS; fine at very high-z)\n",
    "    vel     = udotD_D * psi\n",
    "    return psi, vel\n",
    " "
   ]
  },
  {
   "cell_type": "markdown",
   "id": "6e1f42c9",
   "metadata": {},
   "source": [
    "PIC utilities"
   ]
  },
  {
   "cell_type": "code",
   "execution_count": 6,
   "id": "bb2b15f8",
   "metadata": {},
   "outputs": [],
   "source": [
    "\n",
    "# ================================================================\n",
    "# 3.  PIC utilities (deposit / interpolate)\n",
    "# ================================================================\n",
    "@jit(nopython=True, fastmath=True)\n",
    "def cic_deposit(X, Y, W, ngrid):\n",
    "    rho = np.zeros((ngrid, ngrid))\n",
    "    for x, y, w in zip(X, Y, W):\n",
    "        x = np.fmod(1.0 + x, 1.0)\n",
    "        y = np.fmod(1.0 + y, 1.0)\n",
    "        il = int(np.floor(x * ngrid))\n",
    "        jl = int(np.floor(y * ngrid))\n",
    "        ir = (il + 1) % ngrid\n",
    "        jr = (jl + 1) % ngrid\n",
    "        dx = x * ngrid - il\n",
    "        dy = y * ngrid - jl\n",
    "        rho[il, jl] += (1.0 - dx)*(1.0 - dy)*w\n",
    "        rho[il, jr] += (1.0 - dx)*dy       *w\n",
    "        rho[ir, jl] += dx       *(1.0 - dy)*w\n",
    "        rho[ir, jr] += dx       *dy       *w\n",
    "    return rho\n",
    "\n",
    "@njit(parallel=True, fastmath=True)\n",
    "def cic_interpolate(X, Y, field):\n",
    "    ngrid = field.shape[0]\n",
    "    out   = np.empty(X.size, dtype=field.dtype)\n",
    "    for i in prange(X.size):\n",
    "        x = X[i] % 1.0\n",
    "        y = Y[i] % 1.0\n",
    "        gx, gy = x*ngrid, y*ngrid\n",
    "        il, jl = int(gx)%ngrid, int(gy)%ngrid\n",
    "        ir, jr = (il+1)%ngrid, (jl+1)%ngrid\n",
    "        dx, dy = gx - il, gy - jl\n",
    "        out[i] = ((1-dx)*(1-dy)*field[il,jl] + (1-dx)*dy*field[il,jr] +\n",
    "                   dx   *(1-dy)*field[ir,jl] +  dx   *dy*field[ir,jr])\n",
    "    return out\n"
   ]
  },
  {
   "cell_type": "markdown",
   "id": "07bbfcd0",
   "metadata": {},
   "source": [
    " Poisson solver with 1/a² factor"
   ]
  },
  {
   "cell_type": "code",
   "execution_count": 7,
   "id": "9275fdd8",
   "metadata": {},
   "outputs": [],
   "source": [
    "\n",
    "# ================================================================\n",
    "# 4.  Poisson solver with 1/a² factor\n",
    "# ================================================================\n",
    "def poisson_solve(rho, a):\n",
    "    N = rho.shape[0]\n",
    "    m  = np.concatenate((np.arange(0, N//2), np.arange(-N//2, 0)))\n",
    "    k  = 2.0*np.pi*m\n",
    "    kx, ky = np.meshgrid(k, k, indexing='ij')\n",
    "    k2 = kx**2 + ky**2\n",
    "    frho = np.fft.fft2(rho)\n",
    "    with np.errstate(divide='ignore', invalid='ignore'):\n",
    "        fphi = -frho / k2\n",
    "    fphi[0,0] = 0.0\n",
    "    fax = -1j * kx * fphi\n",
    "    fay = -1j * ky * fphi\n",
    "    ax  = np.fft.ifft2(fax).real / a**2\n",
    "    ay  = np.fft.ifft2(fay).real / a**2\n",
    "    return ax, ay\n"
   ]
  },
  {
   "cell_type": "markdown",
   "id": "7ad6d432",
   "metadata": {},
   "source": [
    "Leapfrog"
   ]
  },
  {
   "cell_type": "code",
   "execution_count": null,
   "id": "399b35ec",
   "metadata": {},
   "outputs": [],
   "source": [
    "\n",
    "# ================================================================\n",
    "# 5.  Leap-frog step with cosmology\n",
    "# ================================================================\n",
    "def advance_a(a, dt):\n",
    "    a_half = a + 0.5*dt*a*H(a)\n",
    "    a_new  = a +       dt*a_half*H(a_half)\n",
    "    return a_half, a_new\n",
    "\n",
    "def step_cosmo(X, P, mpart, a, *, ngrid=ngrid, dt=dt):\n",
    "    a_half, a_new = advance_a(a, dt)\n",
    "    H_half = H(a_half)\n",
    "    # half-drift\n",
    "    X += 0.5*dt * P/(mpart * a_half)\n",
    "    X %= 1.0\n",
    "    # density + field\n",
    "    rho = cic_deposit(X[:,0], X[:,1], np.full(X.shape[0], mpart), ngrid)\n",
    "    ax, ay = poisson_solve(rho, a_half)\n",
    "    # interpolate\n",
    "    A = np.empty_like(X)\n",
    "    A[:,0] = cic_interpolate(X[:,0], X[:,1], ax)\n",
    "    A[:,1] = cic_interpolate(X[:,0], X[:,1], ay)\n",
    "    # kick   (gravity – Hubble drag)\n",
    "    P += mpart*dt*A - H_half*dt*P\n",
    "    # second half-drift\n",
    "    X += 0.5*dt * P/(mpart * a_new)\n",
    "    X %= 1.0\n",
    "    return X, P, rho, a_new\n"
   ]
  }
 ],
 "metadata": {
  "kernelspec": {
   "display_name": "Python 3",
   "language": "python",
   "name": "python3"
  },
  "language_info": {
   "codemirror_mode": {
    "name": "ipython",
    "version": 3
   },
   "file_extension": ".py",
   "mimetype": "text/x-python",
   "name": "python",
   "nbconvert_exporter": "python",
   "pygments_lexer": "ipython3",
   "version": "3.13.1"
  }
 },
 "nbformat": 4,
 "nbformat_minor": 5
}
